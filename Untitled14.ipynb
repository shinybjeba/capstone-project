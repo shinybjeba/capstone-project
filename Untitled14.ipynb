{
 "cells": [
  {
   "cell_type": "code",
   "execution_count": 1,
   "metadata": {
    "id": "6BnW_YpS_3Fl"
   },
   "outputs": [],
   "source": [
    "import numpy as np\n",
    "import matplotlib.pyplot as plt"
   ]
  },
  {
   "cell_type": "code",
   "execution_count": 2,
   "metadata": {
    "id": "wSKpux20AbKJ"
   },
   "outputs": [],
   "source": [
    "import keras\n",
    "from keras.layers import Dense, Conv2D,MaxPool2D,Dropout,Flatten\n",
    "from keras.models import Sequential\n",
    "from keras.preprocessing import image"
   ]
  },
  {
   "cell_type": "code",
   "execution_count": 3,
   "metadata": {
    "id": "CHeo9P1vBAuS"
   },
   "outputs": [],
   "source": [
    "train_datagen = image.ImageDataGenerator(rescale=1/255,horizontal_flip= True,zoom_range= 0.2,shear_range=0.2)"
   ]
  },
  {
   "cell_type": "code",
   "execution_count": 4,
   "metadata": {
    "colab": {
     "base_uri": "https://localhost:8080/"
    },
    "id": "vHtW5djYBjUK",
    "outputId": "e3775fa5-7b49-44c9-899a-cea7ff6df2ce"
   },
   "outputs": [
    {
     "name": "stdout",
     "output_type": "stream",
     "text": [
      "Found 1726 images belonging to 2 classes.\n"
     ]
    }
   ],
   "source": [
    "train_data =train_datagen.flow_from_directory(directory='/content/drive/MyDrive/train',target_size=(256,256),batch_size=16,class_mode='binary')"
   ]
  },
  {
   "cell_type": "code",
   "execution_count": 5,
   "metadata": {
    "colab": {
     "base_uri": "https://localhost:8080/"
    },
    "id": "RQIu7QD2Chba",
    "outputId": "3686945f-25e8-4251-9891-63995facfdaf"
   },
   "outputs": [
    {
     "data": {
      "text/plain": [
       "{'COVID19': 0, 'NORMAL': 1}"
      ]
     },
     "execution_count": 5,
     "metadata": {},
     "output_type": "execute_result"
    }
   ],
   "source": [
    "train_data.class_indices"
   ]
  },
  {
   "cell_type": "code",
   "execution_count": 6,
   "metadata": {
    "colab": {
     "base_uri": "https://localhost:8080/"
    },
    "id": "hOXxium7DAq3",
    "outputId": "1fab5ff0-0764-46a0-d622-c5ed319ea55a"
   },
   "outputs": [
    {
     "name": "stdout",
     "output_type": "stream",
     "text": [
      "Found 433 images belonging to 2 classes.\n"
     ]
    }
   ],
   "source": [
    "test_datagen = image.ImageDataGenerator(rescale=1/255)\n",
    "test_data =test_datagen.flow_from_directory(directory='/content/drive/MyDrive/test',\n",
    "                                            target_size=(256,256),batch_size=16,class_mode='binary')"
   ]
  },
  {
   "cell_type": "code",
   "execution_count": 7,
   "metadata": {
    "colab": {
     "base_uri": "https://localhost:8080/"
    },
    "id": "qAcuGA0zDwg9",
    "outputId": "6a5d487e-2366-4497-b64a-9d343262e8b4"
   },
   "outputs": [
    {
     "data": {
      "text/plain": [
       "{'COVID19': 0, 'NORMAL': 1}"
      ]
     },
     "execution_count": 7,
     "metadata": {},
     "output_type": "execute_result"
    }
   ],
   "source": [
    "test_data.class_indices"
   ]
  },
  {
   "cell_type": "code",
   "execution_count": 10,
   "metadata": {
    "id": "d-75UHiKDwni"
   },
   "outputs": [],
   "source": [
    "model = Sequential()\n",
    "model.add(Conv2D(filters=32,kernel_size=(3,3),activation='relu',input_shape =(256,256,3)))\n",
    "\n",
    "model.add(Conv2D(filters= 64, kernel_size=(3,3),activation='relu'))\n",
    "model.add(MaxPool2D())\n",
    "model.add(Dropout(rate=0.25))\n",
    "\n",
    "model.add(Conv2D(filters= 64, kernel_size=(3,3),activation='relu'))\n",
    "model.add(MaxPool2D())\n",
    "model.add(Dropout(rate=0.25))\n",
    "\n",
    "model.add(Conv2D(filters= 128, kernel_size=(3,3),activation='relu'))\n",
    "model.add(MaxPool2D())\n",
    "model.add(Dropout(rate=0.25))\n",
    "\n",
    "model.add(Flatten())\n",
    "model.add(Dense(units =64,activation= 'relu'))\n",
    "model.add(Dropout(rate=0.50))\n",
    "model.add(Dense(units=1,activation='sigmoid'))\n",
    "\n",
    "model.compile(loss=keras.losses.binary_crossentropy,optimizer='adam',metrics=['acc'])"
   ]
  },
  {
   "cell_type": "code",
   "execution_count": 11,
   "metadata": {
    "colab": {
     "base_uri": "https://localhost:8080/"
    },
    "id": "kRp782GCDwp6",
    "outputId": "2bc6108c-ecf5-4a34-dab9-84dddd2a558e"
   },
   "outputs": [
    {
     "name": "stdout",
     "output_type": "stream",
     "text": [
      "Model: \"sequential_1\"\n",
      "_________________________________________________________________\n",
      " Layer (type)                Output Shape              Param #   \n",
      "=================================================================\n",
      " conv2d_4 (Conv2D)           (None, 254, 254, 32)      896       \n",
      "                                                                 \n",
      " conv2d_5 (Conv2D)           (None, 252, 252, 64)      18496     \n",
      "                                                                 \n",
      " max_pooling2d_3 (MaxPooling  (None, 126, 126, 64)     0         \n",
      " 2D)                                                             \n",
      "                                                                 \n",
      " dropout_3 (Dropout)         (None, 126, 126, 64)      0         \n",
      "                                                                 \n",
      " conv2d_6 (Conv2D)           (None, 124, 124, 64)      36928     \n",
      "                                                                 \n",
      " max_pooling2d_4 (MaxPooling  (None, 62, 62, 64)       0         \n",
      " 2D)                                                             \n",
      "                                                                 \n",
      " dropout_4 (Dropout)         (None, 62, 62, 64)        0         \n",
      "                                                                 \n",
      " conv2d_7 (Conv2D)           (None, 60, 60, 128)       73856     \n",
      "                                                                 \n",
      " max_pooling2d_5 (MaxPooling  (None, 30, 30, 128)      0         \n",
      " 2D)                                                             \n",
      "                                                                 \n",
      " dropout_5 (Dropout)         (None, 30, 30, 128)       0         \n",
      "                                                                 \n",
      " flatten_1 (Flatten)         (None, 115200)            0         \n",
      "                                                                 \n",
      " dense_1 (Dense)             (None, 64)                7372864   \n",
      "                                                                 \n",
      " dropout_6 (Dropout)         (None, 64)                0         \n",
      "                                                                 \n",
      " dense_2 (Dense)             (None, 1)                 65        \n",
      "                                                                 \n",
      "=================================================================\n",
      "Total params: 7,503,105\n",
      "Trainable params: 7,503,105\n",
      "Non-trainable params: 0\n",
      "_________________________________________________________________\n"
     ]
    }
   ],
   "source": [
    "model.summary()"
   ]
  },
  {
   "cell_type": "code",
   "execution_count": 12,
   "metadata": {
    "colab": {
     "base_uri": "https://localhost:8080/"
    },
    "id": "F3d6uJDbDws3",
    "outputId": "b9775852-c72b-41bb-b940-10c0ed4a6181"
   },
   "outputs": [
    {
     "name": "stderr",
     "output_type": "stream",
     "text": [
      "/usr/local/lib/python3.7/dist-packages/ipykernel_launcher.py:1: UserWarning: `Model.fit_generator` is deprecated and will be removed in a future version. Please use `Model.fit`, which supports generators.\n",
      "  \"\"\"Entry point for launching an IPython kernel.\n"
     ]
    },
    {
     "name": "stdout",
     "output_type": "stream",
     "text": [
      "Epoch 1/10\n",
      "8/8 [==============================] - 66s 7s/step - loss: 1.2851 - acc: 0.7188 - val_loss: 0.6004 - val_acc: 0.6875\n",
      "Epoch 2/10\n",
      "8/8 [==============================] - 50s 6s/step - loss: 0.5601 - acc: 0.7656 - val_loss: 0.5338 - val_acc: 0.8125\n",
      "Epoch 3/10\n",
      "8/8 [==============================] - 55s 7s/step - loss: 0.6171 - acc: 0.7109 - val_loss: 0.6420 - val_acc: 0.6875\n",
      "Epoch 4/10\n",
      "8/8 [==============================] - 45s 6s/step - loss: 0.5009 - acc: 0.7734 - val_loss: 0.4193 - val_acc: 0.7812\n",
      "Epoch 5/10\n",
      "8/8 [==============================] - 41s 5s/step - loss: 0.3612 - acc: 0.8125 - val_loss: 0.2833 - val_acc: 0.8750\n",
      "Epoch 6/10\n",
      "8/8 [==============================] - 40s 5s/step - loss: 0.3066 - acc: 0.8516 - val_loss: 0.1740 - val_acc: 0.9375\n",
      "Epoch 7/10\n",
      "8/8 [==============================] - 41s 5s/step - loss: 0.5172 - acc: 0.7734 - val_loss: 0.2878 - val_acc: 0.8750\n",
      "Epoch 8/10\n",
      "8/8 [==============================] - 39s 5s/step - loss: 0.2934 - acc: 0.8438 - val_loss: 0.2058 - val_acc: 0.9375\n",
      "Epoch 9/10\n",
      "8/8 [==============================] - 36s 5s/step - loss: 0.4941 - acc: 0.8047 - val_loss: 0.4221 - val_acc: 0.9375\n",
      "Epoch 10/10\n",
      "8/8 [==============================] - 28s 3s/step - loss: 0.4027 - acc: 0.8516 - val_loss: 0.2420 - val_acc: 0.9062\n"
     ]
    },
    {
     "data": {
      "text/plain": [
       "<keras.callbacks.History at 0x7fae751baa10>"
      ]
     },
     "execution_count": 12,
     "metadata": {},
     "output_type": "execute_result"
    }
   ],
   "source": [
    "model.fit_generator(train_data,steps_per_epoch= 8, epochs= 10,validation_steps= 2,validation_data= test_data)"
   ]
  },
  {
   "cell_type": "code",
   "execution_count": null,
   "metadata": {
    "id": "s16E24h4Dwun"
   },
   "outputs": [],
   "source": []
  },
  {
   "cell_type": "code",
   "execution_count": null,
   "metadata": {
    "id": "eoNm9LXGDwyE"
   },
   "outputs": [],
   "source": []
  }
 ],
 "metadata": {
  "accelerator": "GPU",
  "colab": {
   "name": "Untitled14.ipynb",
   "provenance": []
  },
  "kernelspec": {
   "display_name": "Python 3",
   "language": "python",
   "name": "python3"
  },
  "language_info": {
   "codemirror_mode": {
    "name": "ipython",
    "version": 3
   },
   "file_extension": ".py",
   "mimetype": "text/x-python",
   "name": "python",
   "nbconvert_exporter": "python",
   "pygments_lexer": "ipython3",
   "version": "3.8.8"
  },
  "varInspector": {
   "cols": {
    "lenName": 16,
    "lenType": 16,
    "lenVar": 40
   },
   "kernels_config": {
    "python": {
     "delete_cmd_postfix": "",
     "delete_cmd_prefix": "del ",
     "library": "var_list.py",
     "varRefreshCmd": "print(var_dic_list())"
    },
    "r": {
     "delete_cmd_postfix": ") ",
     "delete_cmd_prefix": "rm(",
     "library": "var_list.r",
     "varRefreshCmd": "cat(var_dic_list()) "
    }
   },
   "types_to_exclude": [
    "module",
    "function",
    "builtin_function_or_method",
    "instance",
    "_Feature"
   ],
   "window_display": false
  }
 },
 "nbformat": 4,
 "nbformat_minor": 1
}
